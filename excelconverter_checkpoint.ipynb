{
  "nbformat": 4,
  "nbformat_minor": 0,
  "metadata": {
    "kernelspec": {
      "display_name": "Python 3",
      "language": "python",
      "name": "python3"
    },
    "language_info": {
      "codemirror_mode": {
        "name": "ipython",
        "version": 3
      },
      "file_extension": ".py",
      "mimetype": "text/x-python",
      "name": "python",
      "nbconvert_exporter": "python",
      "pygments_lexer": "ipython3",
      "version": "3.7.4"
    },
    "colab": {
      "name": "excelconverter-checkpoint.ipynb",
      "provenance": [],
      "collapsed_sections": [],
      "include_colab_link": true
    }
  },
  "cells": [
    {
      "cell_type": "markdown",
      "metadata": {
        "id": "view-in-github",
        "colab_type": "text"
      },
      "source": [
        "<a href=\"https://colab.research.google.com/github/ebenebe/Bag_Store/blob/master/excelconverter_checkpoint.ipynb\" target=\"_parent\"><img src=\"https://colab.research.google.com/assets/colab-badge.svg\" alt=\"Open In Colab\"/></a>"
      ]
    },
    {
      "cell_type": "code",
      "metadata": {
        "id": "MSlFIa0vH6Xu",
        "colab_type": "code",
        "colab": {}
      },
      "source": [
        "import pandas as pd\n",
        "import numpy as np"
      ],
      "execution_count": 0,
      "outputs": []
    },
    {
      "cell_type": "code",
      "metadata": {
        "id": "H87xX1mdH6YU",
        "colab_type": "code",
        "colab": {}
      },
      "source": [
        "# Import the three excel files to Dataframe\n",
        "portfolio = pd.read_excel('C:/Users/STELLAS MFB IT/Desktop/Acct.OfficerCollection/Raw files/sample/Portfolio_At_Risk_Report.xlsx')\n",
        "expected = pd.read_excel('C:/Users/STELLAS MFB IT/Desktop/Acct.OfficerCollection/Raw files/sample/Expected_Report.xlsx')\n",
        "monitoring = pd.read_excel('C:/Users/STELLAS MFB IT/Desktop/Acct.OfficerCollection/Raw files/sample/Savings_Deposit_Monitoring_Report.xlsx')\n"
      ],
      "execution_count": 0,
      "outputs": []
    },
    {
      "cell_type": "code",
      "metadata": {
        "id": "bL82D2j7H6Yy",
        "colab_type": "code",
        "colab": {},
        "outputId": "a1799e83-02c0-4c5a-aef4-88608d7ae350"
      },
      "source": [
        "# Select the two colums to merge from expected Dataframe\n",
        "expected_1 = expected[['Linked Account No.','Payment Amount','Due Date']]\n",
        "#Print two rows of the result\n",
        "expected_1.head(2)"
      ],
      "execution_count": 0,
      "outputs": [
        {
          "output_type": "execute_result",
          "data": {
            "text/html": [
              "<div>\n",
              "<style scoped>\n",
              "    .dataframe tbody tr th:only-of-type {\n",
              "        vertical-align: middle;\n",
              "    }\n",
              "\n",
              "    .dataframe tbody tr th {\n",
              "        vertical-align: top;\n",
              "    }\n",
              "\n",
              "    .dataframe thead th {\n",
              "        text-align: right;\n",
              "    }\n",
              "</style>\n",
              "<table border=\"1\" class=\"dataframe\">\n",
              "  <thead>\n",
              "    <tr style=\"text-align: right;\">\n",
              "      <th></th>\n",
              "      <th>Linked Account No.</th>\n",
              "      <th>Payment Amount</th>\n",
              "      <th>Due Date</th>\n",
              "    </tr>\n",
              "  </thead>\n",
              "  <tbody>\n",
              "    <tr>\n",
              "      <td>0</td>\n",
              "      <td>4230012400001284</td>\n",
              "      <td>86996.97</td>\n",
              "      <td>01-Dec-2019</td>\n",
              "    </tr>\n",
              "    <tr>\n",
              "      <td>1</td>\n",
              "      <td>4230011100000873</td>\n",
              "      <td>59490.00</td>\n",
              "      <td>24-Dec-2019</td>\n",
              "    </tr>\n",
              "  </tbody>\n",
              "</table>\n",
              "</div>"
            ],
            "text/plain": [
              "   Linked Account No.  Payment Amount     Due Date\n",
              "0    4230012400001284        86996.97  01-Dec-2019\n",
              "1    4230011100000873        59490.00  24-Dec-2019"
            ]
          },
          "metadata": {
            "tags": []
          },
          "execution_count": 3
        }
      ]
    },
    {
      "cell_type": "code",
      "metadata": {
        "id": "FZ8QSTfqH6ZG",
        "colab_type": "code",
        "colab": {}
      },
      "source": [
        "# merge the expected_1 Dataframe to Portfolio Dataframe and assign them to New_portfolio\n",
        "new_portfolio = pd.merge(left = portfolio, right = expected_1,how ='left', on ='Linked Account No.')"
      ],
      "execution_count": 0,
      "outputs": []
    },
    {
      "cell_type": "code",
      "metadata": {
        "id": "JToFOABSH6Zb",
        "colab_type": "code",
        "colab": {}
      },
      "source": [
        "# Select the two colums to merge from monitoring Dataframe\n",
        "\n",
        "monitoring_1 = monitoring[['Linked Account No.','NUBAN','Lodgements']]"
      ],
      "execution_count": 0,
      "outputs": []
    },
    {
      "cell_type": "code",
      "metadata": {
        "id": "pj0zURhlH6Zu",
        "colab_type": "code",
        "colab": {}
      },
      "source": [
        "new_portfolio = pd.merge(left = new_portfolio, right = monitoring_1,how = 'left',  on ='Linked Account No.')"
      ],
      "execution_count": 0,
      "outputs": []
    },
    {
      "cell_type": "code",
      "metadata": {
        "id": "0HCaBJsIH6aB",
        "colab_type": "code",
        "colab": {},
        "outputId": "7e813e87-1da0-4011-e3cb-8b29d4914775"
      },
      "source": [
        "new_portfolio.head(3)"
      ],
      "execution_count": 0,
      "outputs": [
        {
          "output_type": "execute_result",
          "data": {
            "text/html": [
              "<div>\n",
              "<style scoped>\n",
              "    .dataframe tbody tr th:only-of-type {\n",
              "        vertical-align: middle;\n",
              "    }\n",
              "\n",
              "    .dataframe tbody tr th {\n",
              "        vertical-align: top;\n",
              "    }\n",
              "\n",
              "    .dataframe thead th {\n",
              "        text-align: right;\n",
              "    }\n",
              "</style>\n",
              "<table border=\"1\" class=\"dataframe\">\n",
              "  <thead>\n",
              "    <tr style=\"text-align: right;\">\n",
              "      <th></th>\n",
              "      <th>S/N.</th>\n",
              "      <th>Customer Name</th>\n",
              "      <th>Phone No.</th>\n",
              "      <th>Loan Amount</th>\n",
              "      <th>Principal Bal.</th>\n",
              "      <th>Customer Account Bal.</th>\n",
              "      <th>Disbursement Date</th>\n",
              "      <th>Maturation Date</th>\n",
              "      <th>Product</th>\n",
              "      <th>Linked Account No.</th>\n",
              "      <th>Credit Officer</th>\n",
              "      <th>Total Outst. Prin.</th>\n",
              "      <th>Past Due Prin.</th>\n",
              "      <th>Loan Arrears</th>\n",
              "      <th>Status</th>\n",
              "      <th>Days OverDue</th>\n",
              "      <th>Payment Amount</th>\n",
              "      <th>Due Date</th>\n",
              "      <th>NUBAN</th>\n",
              "      <th>Lodgements</th>\n",
              "    </tr>\n",
              "  </thead>\n",
              "  <tbody>\n",
              "    <tr>\n",
              "      <td>0</td>\n",
              "      <td>1</td>\n",
              "      <td>GMC  GLOBAL RESOURCES LTD</td>\n",
              "      <td>NaN</td>\n",
              "      <td>1500000</td>\n",
              "      <td>1500000.0</td>\n",
              "      <td>-74459.96</td>\n",
              "      <td>10-Dec-2019</td>\n",
              "      <td>09-Jan-2020</td>\n",
              "      <td>LOAN- RETAIL MARKET (MICRO)</td>\n",
              "      <td>4230012200003547</td>\n",
              "      <td>OLABISI, BUKOLA</td>\n",
              "      <td>1500000.0</td>\n",
              "      <td>0.0</td>\n",
              "      <td>0.0</td>\n",
              "      <td>Performing</td>\n",
              "      <td>0</td>\n",
              "      <td>NaN</td>\n",
              "      <td>NaN</td>\n",
              "      <td>NaN</td>\n",
              "      <td>NaN</td>\n",
              "    </tr>\n",
              "    <tr>\n",
              "      <td>1</td>\n",
              "      <td>2</td>\n",
              "      <td>PETER, GLORIA OLAOYE</td>\n",
              "      <td>8.169893e+09</td>\n",
              "      <td>70000</td>\n",
              "      <td>70000.0</td>\n",
              "      <td>531.27</td>\n",
              "      <td>10-Dec-2019</td>\n",
              "      <td>07-Jun-2020</td>\n",
              "      <td>LOAN- RETAIL MARKET (MICRO)</td>\n",
              "      <td>4230011100003301</td>\n",
              "      <td>AMBALI , KANYINSOLA KAFAYAT</td>\n",
              "      <td>70000.0</td>\n",
              "      <td>0.0</td>\n",
              "      <td>0.0</td>\n",
              "      <td>Performing</td>\n",
              "      <td>0</td>\n",
              "      <td>NaN</td>\n",
              "      <td>NaN</td>\n",
              "      <td>1.100033e+09</td>\n",
              "      <td>0.0</td>\n",
              "    </tr>\n",
              "    <tr>\n",
              "      <td>2</td>\n",
              "      <td>3</td>\n",
              "      <td>ANUGBOBA-ORIABURE, RIGHTEOUS  EHIS</td>\n",
              "      <td>8.038187e+09</td>\n",
              "      <td>100000</td>\n",
              "      <td>100000.0</td>\n",
              "      <td>943.00</td>\n",
              "      <td>10-Dec-2019</td>\n",
              "      <td>09-Mar-2020</td>\n",
              "      <td>LOAN- RETAIL MARKET (MICRO)</td>\n",
              "      <td>4230011100004513</td>\n",
              "      <td>AWOSOPE, OLUWASEUN</td>\n",
              "      <td>100000.0</td>\n",
              "      <td>0.0</td>\n",
              "      <td>0.0</td>\n",
              "      <td>Performing</td>\n",
              "      <td>0</td>\n",
              "      <td>NaN</td>\n",
              "      <td>NaN</td>\n",
              "      <td>1.100045e+09</td>\n",
              "      <td>21500.0</td>\n",
              "    </tr>\n",
              "  </tbody>\n",
              "</table>\n",
              "</div>"
            ],
            "text/plain": [
              "   S/N.                       Customer Name     Phone No.  Loan Amount  \\\n",
              "0     1           GMC  GLOBAL RESOURCES LTD           NaN      1500000   \n",
              "1     2                PETER, GLORIA OLAOYE  8.169893e+09        70000   \n",
              "2     3  ANUGBOBA-ORIABURE, RIGHTEOUS  EHIS  8.038187e+09       100000   \n",
              "\n",
              "   Principal Bal.  Customer Account Bal. Disbursement Date Maturation Date  \\\n",
              "0       1500000.0              -74459.96       10-Dec-2019     09-Jan-2020   \n",
              "1         70000.0                 531.27       10-Dec-2019     07-Jun-2020   \n",
              "2        100000.0                 943.00       10-Dec-2019     09-Mar-2020   \n",
              "\n",
              "                       Product  Linked Account No.  \\\n",
              "0  LOAN- RETAIL MARKET (MICRO)    4230012200003547   \n",
              "1  LOAN- RETAIL MARKET (MICRO)    4230011100003301   \n",
              "2  LOAN- RETAIL MARKET (MICRO)    4230011100004513   \n",
              "\n",
              "                Credit Officer  Total Outst. Prin.  Past Due Prin.  \\\n",
              "0              OLABISI, BUKOLA           1500000.0             0.0   \n",
              "1  AMBALI , KANYINSOLA KAFAYAT             70000.0             0.0   \n",
              "2           AWOSOPE, OLUWASEUN            100000.0             0.0   \n",
              "\n",
              "   Loan Arrears      Status  Days OverDue  Payment Amount Due Date  \\\n",
              "0           0.0  Performing             0             NaN      NaN   \n",
              "1           0.0  Performing             0             NaN      NaN   \n",
              "2           0.0  Performing             0             NaN      NaN   \n",
              "\n",
              "          NUBAN  Lodgements  \n",
              "0           NaN         NaN  \n",
              "1  1.100033e+09         0.0  \n",
              "2  1.100045e+09     21500.0  "
            ]
          },
          "metadata": {
            "tags": []
          },
          "execution_count": 7
        }
      ]
    },
    {
      "cell_type": "code",
      "metadata": {
        "id": "hywHcBwRH6aP",
        "colab_type": "code",
        "colab": {}
      },
      "source": [
        "\n",
        "new_portfolio.rename(columns={'Payment Amount':'Expected Payment Amount'}, inplace = True)\n",
        "new_portfolio.rename(columns={'Due Date':'Expected Due Date'}, inplace = True)\n",
        "new_portfolio.rename(columns={'Lodgements':'Lodgments month -Date'}, inplace = True)\n",
        "\n",
        "\n"
      ],
      "execution_count": 0,
      "outputs": []
    },
    {
      "cell_type": "code",
      "metadata": {
        "id": "frD9MQmBH6ag",
        "colab_type": "code",
        "colab": {}
      },
      "source": [
        "new_portfolio['Loan Collection Amount'] = \" \"\n",
        "new_portfolio['Savings Amount'] = \" \""
      ],
      "execution_count": 0,
      "outputs": []
    },
    {
      "cell_type": "code",
      "metadata": {
        "id": "12ebBAVsH6aw",
        "colab_type": "code",
        "colab": {},
        "outputId": "e5612517-11ac-4307-e5c8-a5ccbd8f395c"
      },
      "source": [
        "new_portfolio.head(3)"
      ],
      "execution_count": 0,
      "outputs": [
        {
          "output_type": "execute_result",
          "data": {
            "text/html": [
              "<div>\n",
              "<style scoped>\n",
              "    .dataframe tbody tr th:only-of-type {\n",
              "        vertical-align: middle;\n",
              "    }\n",
              "\n",
              "    .dataframe tbody tr th {\n",
              "        vertical-align: top;\n",
              "    }\n",
              "\n",
              "    .dataframe thead th {\n",
              "        text-align: right;\n",
              "    }\n",
              "</style>\n",
              "<table border=\"1\" class=\"dataframe\">\n",
              "  <thead>\n",
              "    <tr style=\"text-align: right;\">\n",
              "      <th></th>\n",
              "      <th>S/N.</th>\n",
              "      <th>Customer Name</th>\n",
              "      <th>Phone No.</th>\n",
              "      <th>Loan Amount</th>\n",
              "      <th>Principal Bal.</th>\n",
              "      <th>Customer Account Bal.</th>\n",
              "      <th>Disbursement Date</th>\n",
              "      <th>Maturation Date</th>\n",
              "      <th>Product</th>\n",
              "      <th>Linked Account No.</th>\n",
              "      <th>...</th>\n",
              "      <th>Past Due Prin.</th>\n",
              "      <th>Loan Arrears</th>\n",
              "      <th>Status</th>\n",
              "      <th>Days OverDue</th>\n",
              "      <th>Expected Payment Amount</th>\n",
              "      <th>Expected Due Date</th>\n",
              "      <th>NUBAN</th>\n",
              "      <th>Lodgments month -Date</th>\n",
              "      <th>Loan Collection Amount</th>\n",
              "      <th>Savings Amount</th>\n",
              "    </tr>\n",
              "  </thead>\n",
              "  <tbody>\n",
              "    <tr>\n",
              "      <td>0</td>\n",
              "      <td>1</td>\n",
              "      <td>GMC  GLOBAL RESOURCES LTD</td>\n",
              "      <td>NaN</td>\n",
              "      <td>1500000</td>\n",
              "      <td>1500000.0</td>\n",
              "      <td>-74459.96</td>\n",
              "      <td>10-Dec-2019</td>\n",
              "      <td>09-Jan-2020</td>\n",
              "      <td>LOAN- RETAIL MARKET (MICRO)</td>\n",
              "      <td>4230012200003547</td>\n",
              "      <td>...</td>\n",
              "      <td>0.0</td>\n",
              "      <td>0.0</td>\n",
              "      <td>Performing</td>\n",
              "      <td>0</td>\n",
              "      <td>NaN</td>\n",
              "      <td>NaN</td>\n",
              "      <td>NaN</td>\n",
              "      <td>NaN</td>\n",
              "      <td></td>\n",
              "      <td></td>\n",
              "    </tr>\n",
              "    <tr>\n",
              "      <td>1</td>\n",
              "      <td>2</td>\n",
              "      <td>PETER, GLORIA OLAOYE</td>\n",
              "      <td>8.169893e+09</td>\n",
              "      <td>70000</td>\n",
              "      <td>70000.0</td>\n",
              "      <td>531.27</td>\n",
              "      <td>10-Dec-2019</td>\n",
              "      <td>07-Jun-2020</td>\n",
              "      <td>LOAN- RETAIL MARKET (MICRO)</td>\n",
              "      <td>4230011100003301</td>\n",
              "      <td>...</td>\n",
              "      <td>0.0</td>\n",
              "      <td>0.0</td>\n",
              "      <td>Performing</td>\n",
              "      <td>0</td>\n",
              "      <td>NaN</td>\n",
              "      <td>NaN</td>\n",
              "      <td>1.100033e+09</td>\n",
              "      <td>0.0</td>\n",
              "      <td></td>\n",
              "      <td></td>\n",
              "    </tr>\n",
              "    <tr>\n",
              "      <td>2</td>\n",
              "      <td>3</td>\n",
              "      <td>ANUGBOBA-ORIABURE, RIGHTEOUS  EHIS</td>\n",
              "      <td>8.038187e+09</td>\n",
              "      <td>100000</td>\n",
              "      <td>100000.0</td>\n",
              "      <td>943.00</td>\n",
              "      <td>10-Dec-2019</td>\n",
              "      <td>09-Mar-2020</td>\n",
              "      <td>LOAN- RETAIL MARKET (MICRO)</td>\n",
              "      <td>4230011100004513</td>\n",
              "      <td>...</td>\n",
              "      <td>0.0</td>\n",
              "      <td>0.0</td>\n",
              "      <td>Performing</td>\n",
              "      <td>0</td>\n",
              "      <td>NaN</td>\n",
              "      <td>NaN</td>\n",
              "      <td>1.100045e+09</td>\n",
              "      <td>21500.0</td>\n",
              "      <td></td>\n",
              "      <td></td>\n",
              "    </tr>\n",
              "  </tbody>\n",
              "</table>\n",
              "<p>3 rows × 22 columns</p>\n",
              "</div>"
            ],
            "text/plain": [
              "   S/N.                       Customer Name     Phone No.  Loan Amount  \\\n",
              "0     1           GMC  GLOBAL RESOURCES LTD           NaN      1500000   \n",
              "1     2                PETER, GLORIA OLAOYE  8.169893e+09        70000   \n",
              "2     3  ANUGBOBA-ORIABURE, RIGHTEOUS  EHIS  8.038187e+09       100000   \n",
              "\n",
              "   Principal Bal.  Customer Account Bal. Disbursement Date Maturation Date  \\\n",
              "0       1500000.0              -74459.96       10-Dec-2019     09-Jan-2020   \n",
              "1         70000.0                 531.27       10-Dec-2019     07-Jun-2020   \n",
              "2        100000.0                 943.00       10-Dec-2019     09-Mar-2020   \n",
              "\n",
              "                       Product  Linked Account No.  ... Past Due Prin.  \\\n",
              "0  LOAN- RETAIL MARKET (MICRO)    4230012200003547  ...            0.0   \n",
              "1  LOAN- RETAIL MARKET (MICRO)    4230011100003301  ...            0.0   \n",
              "2  LOAN- RETAIL MARKET (MICRO)    4230011100004513  ...            0.0   \n",
              "\n",
              "   Loan Arrears      Status  Days OverDue Expected Payment Amount  \\\n",
              "0           0.0  Performing             0                     NaN   \n",
              "1           0.0  Performing             0                     NaN   \n",
              "2           0.0  Performing             0                     NaN   \n",
              "\n",
              "   Expected Due Date         NUBAN Lodgments month -Date  \\\n",
              "0                NaN           NaN                   NaN   \n",
              "1                NaN  1.100033e+09                   0.0   \n",
              "2                NaN  1.100045e+09               21500.0   \n",
              "\n",
              "   Loan Collection Amount  Savings Amount  \n",
              "0                                          \n",
              "1                                          \n",
              "2                                          \n",
              "\n",
              "[3 rows x 22 columns]"
            ]
          },
          "metadata": {
            "tags": []
          },
          "execution_count": 10
        }
      ]
    },
    {
      "cell_type": "code",
      "metadata": {
        "id": "nkvQXTX-H6bS",
        "colab_type": "code",
        "colab": {}
      },
      "source": [
        "new_portfolio.sort_values('Credit Officer', inplace = True)"
      ],
      "execution_count": 0,
      "outputs": []
    },
    {
      "cell_type": "code",
      "metadata": {
        "id": "VgQQBY_zH6bk",
        "colab_type": "code",
        "colab": {}
      },
      "source": [
        "new_portfolio.to_excel('C:/Users/STELLAS MFB IT/Desktop/Acct.OfficerCollection/Raw files/sample/new_portfolio.xlsx')"
      ],
      "execution_count": 0,
      "outputs": []
    },
    {
      "cell_type": "code",
      "metadata": {
        "id": "AsnZhPH6H6bv",
        "colab_type": "code",
        "colab": {}
      },
      "source": [
        ""
      ],
      "execution_count": 0,
      "outputs": []
    },
    {
      "cell_type": "code",
      "metadata": {
        "id": "ZaCeOrdoH6b8",
        "colab_type": "code",
        "colab": {}
      },
      "source": [
        ""
      ],
      "execution_count": 0,
      "outputs": []
    }
  ]
}